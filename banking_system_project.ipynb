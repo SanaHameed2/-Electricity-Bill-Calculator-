{
  "nbformat": 4,
  "nbformat_minor": 0,
  "metadata": {
    "colab": {
      "provenance": [],
      "authorship_tag": "ABX9TyPwcMCNRqPxoUHft7T//ifA",
      "include_colab_link": true
    },
    "kernelspec": {
      "name": "python3",
      "display_name": "Python 3"
    },
    "language_info": {
      "name": "python"
    }
  },
  "cells": [
    {
      "cell_type": "markdown",
      "metadata": {
        "id": "view-in-github",
        "colab_type": "text"
      },
      "source": [
        "<a href=\"https://colab.research.google.com/github/SanaHameed2/-Electricity-Bill-Calculator-/blob/master/banking_system_project.ipynb\" target=\"_parent\"><img src=\"https://colab.research.google.com/assets/colab-badge.svg\" alt=\"Open In Colab\"/></a>"
      ]
    },
    {
      "cell_type": "code",
      "execution_count": 69,
      "metadata": {
        "id": "6wpkKCBfeSAe"
      },
      "outputs": [],
      "source": [
        "all_accounts = []\n",
        "import random"
      ]
    },
    {
      "cell_type": "code",
      "source": [
        "import random\n",
        "\n",
        "def open_account():\n",
        "  account_title = input(\"enter the title : \")\n",
        "  account_number = int(input(\"enter the number : \"))\n",
        "  cnic = input(\"enter CNIC: \")\n",
        "  initial_deposit = int(input(\"enter the initial deposit: \"))\n",
        "  account = {'title': account_title,\n",
        "             'cnic': cnic,\n",
        "             'account_number': account_number,\n",
        "             'type': 'saving',\n",
        "             'balance': initial_deposit,\n",
        "             'contact': ''}\n",
        "  all_accounts.append(account)\n",
        "  print(\"Account opened successfully\")\n",
        "  print(f\"Your account title is {account['title']} and account number is {account['account_number']}\")"
      ],
      "metadata": {
        "id": "7uXF_7euo2dr"
      },
      "execution_count": 70,
      "outputs": []
    },
    {
      "cell_type": "code",
      "source": [
        "open_account()"
      ],
      "metadata": {
        "colab": {
          "base_uri": "https://localhost:8080/"
        },
        "id": "di-XMH7MONiY",
        "outputId": "9378fbae-3b2d-4460-cb49-deb1dfc66abc"
      },
      "execution_count": 72,
      "outputs": [
        {
          "output_type": "stream",
          "name": "stdout",
          "text": [
            "enter the title : Sana\n",
            "enter the number : 345621\n",
            "enter CNIC: 42401-1234567-1\n",
            "enter the initial deposit: 15000\n",
            "Account opened successfully\n",
            "Your account title is Sana and account number is 345621\n"
          ]
        }
      ]
    },
    {
      "cell_type": "code",
      "source": [
        "open_account()"
      ],
      "metadata": {
        "colab": {
          "base_uri": "https://localhost:8080/"
        },
        "id": "PoZzk6wnNTFC",
        "outputId": "07e6db4c-1261-443e-df92-90a3da8f9c69"
      },
      "execution_count": 73,
      "outputs": [
        {
          "output_type": "stream",
          "name": "stdout",
          "text": [
            "enter the title : Daniyal Ali\n",
            "enter the number : 345622\n",
            "enter CNIC: 42401-1234567-2\n",
            "enter the initial deposit: 13000\n",
            "Account opened successfully\n",
            "Your account title is Daniyal Ali and account number is 345622\n"
          ]
        }
      ]
    },
    {
      "cell_type": "code",
      "source": [
        "open_account()"
      ],
      "metadata": {
        "colab": {
          "base_uri": "https://localhost:8080/"
        },
        "id": "IcCMVXBfNljY",
        "outputId": "ae707eef-ddea-493a-9d51-fec7843a80ab"
      },
      "execution_count": 74,
      "outputs": [
        {
          "output_type": "stream",
          "name": "stdout",
          "text": [
            "enter the title : Raheela Malik\n",
            "enter the number : 345623\n",
            "enter CNIC: 42401-1234567-3\n",
            "enter the initial deposit: 200000\n",
            "Account opened successfully\n",
            "Your account title is Raheela Malik and account number is 345623\n"
          ]
        }
      ]
    },
    {
      "cell_type": "code",
      "source": [
        "for acc in all_accounts:\n",
        "    print(acc['account_number'], acc['title'])\n"
      ],
      "metadata": {
        "colab": {
          "base_uri": "https://localhost:8080/"
        },
        "id": "fGejlTtHQW9_",
        "outputId": "a8d8001b-7938-4495-af82-9e252415726f"
      },
      "execution_count": 95,
      "outputs": [
        {
          "output_type": "stream",
          "name": "stdout",
          "text": [
            "345621 Sana\n",
            "345623 Raheela Malik\n"
          ]
        }
      ]
    },
    {
      "cell_type": "code",
      "source": [
        "all_accounts"
      ],
      "metadata": {
        "colab": {
          "base_uri": "https://localhost:8080/"
        },
        "id": "YZi3URaNV5_u",
        "outputId": "c942bf91-f7ec-47ba-f9a3-f53ab93273ad"
      },
      "execution_count": 78,
      "outputs": [
        {
          "output_type": "execute_result",
          "data": {
            "text/plain": [
              "[{'title': 'Sana',\n",
              "  'cnic': '42401-1234567-1',\n",
              "  'account_number': 345621,\n",
              "  'type': 'saving',\n",
              "  'balance': 15000,\n",
              "  'contact': ''},\n",
              " {'title': 'Daniyal Ali',\n",
              "  'cnic': '42401-1234567-2',\n",
              "  'account_number': 345622,\n",
              "  'type': 'saving',\n",
              "  'balance': 13000,\n",
              "  'contact': ''},\n",
              " {'title': 'Raheela Malik',\n",
              "  'cnic': '42401-1234567-3',\n",
              "  'account_number': 345623,\n",
              "  'type': 'saving',\n",
              "  'balance': 200000,\n",
              "  'contact': ''}]"
            ]
          },
          "metadata": {},
          "execution_count": 78
        }
      ]
    },
    {
      "cell_type": "code",
      "source": [
        "def cash_deposit(acc_number, amount):\n",
        "    if amount > 0:\n",
        "        for acc in all_accounts:\n",
        "            if str(acc['account_number']) == str(acc_number):\n",
        "                acc['balance'] += amount\n",
        "                print(\"Amount successfully deposited\")\n",
        "                print(f\"New Balance: {acc['balance']}\")\n",
        "                break\n",
        "        else:\n",
        "            print(\"Account not found\")\n",
        "    else:\n",
        "        print(\"Invalid Amount\")"
      ],
      "metadata": {
        "id": "DpSoVK_FWakE"
      },
      "execution_count": null,
      "outputs": []
    },
    {
      "cell_type": "code",
      "source": [
        "cash_deposit(345622, 10000)"
      ],
      "metadata": {
        "colab": {
          "base_uri": "https://localhost:8080/"
        },
        "id": "iXa4zzygcCgk",
        "outputId": "945bcea6-9223-4cdf-fd1c-c9003666bde4"
      },
      "execution_count": 80,
      "outputs": [
        {
          "output_type": "stream",
          "name": "stdout",
          "text": [
            "Amount successfully deposited\n",
            "New Balance: 23000\n"
          ]
        }
      ]
    },
    {
      "cell_type": "code",
      "source": [
        "all_accounts"
      ],
      "metadata": {
        "colab": {
          "base_uri": "https://localhost:8080/"
        },
        "id": "-aZv32zHp8PQ",
        "outputId": "95a438f9-fd8e-47d6-84b5-9a0d263eb30b"
      },
      "execution_count": 81,
      "outputs": [
        {
          "output_type": "execute_result",
          "data": {
            "text/plain": [
              "[{'title': 'Sana',\n",
              "  'cnic': '42401-1234567-1',\n",
              "  'account_number': 345621,\n",
              "  'type': 'saving',\n",
              "  'balance': 15000,\n",
              "  'contact': ''},\n",
              " {'title': 'Daniyal Ali',\n",
              "  'cnic': '42401-1234567-2',\n",
              "  'account_number': 345622,\n",
              "  'type': 'saving',\n",
              "  'balance': 23000,\n",
              "  'contact': ''},\n",
              " {'title': 'Raheela Malik',\n",
              "  'cnic': '42401-1234567-3',\n",
              "  'account_number': 345623,\n",
              "  'type': 'saving',\n",
              "  'balance': 200000,\n",
              "  'contact': ''}]"
            ]
          },
          "metadata": {},
          "execution_count": 81
        }
      ]
    },
    {
      "cell_type": "code",
      "metadata": {
        "id": "1e66eade"
      },
      "source": [
        "def check_balance(acc_number):\n",
        "    for acc in all_accounts:\n",
        "        if str(acc['account_number']) == str(acc_number):\n",
        "            print(f\"Current Balance: {acc['balance']}\")\n",
        "            break\n",
        "    else:\n",
        "        print(\"Account not found\")"
      ],
      "execution_count": null,
      "outputs": []
    },
    {
      "cell_type": "code",
      "source": [
        "check_balance(345622)"
      ],
      "metadata": {
        "colab": {
          "base_uri": "https://localhost:8080/"
        },
        "id": "SP0swmH5tMcL",
        "outputId": "20e3c11e-958e-49de-c8e5-f1a06963beac"
      },
      "execution_count": 82,
      "outputs": [
        {
          "output_type": "stream",
          "name": "stdout",
          "text": [
            "Current Balance: 23000\n"
          ]
        }
      ]
    },
    {
      "cell_type": "code",
      "source": [
        "def cash_withdrawal(acc_num, amount):\n",
        "    for acc in all_accounts:\n",
        "        if (acc['account_number'] == acc_num) and (acc['balance'] >= amount):\n",
        "            acc['balance'] -= amount\n",
        "            print(f\"Withdrawal of {amount} successful.\")\n",
        "            print(f\"New Balance: {acc['balance']}\")\n",
        "            break\n",
        "    else:\n",
        "        print(\"Invalid account number or insufficient balance.\")\n"
      ],
      "metadata": {
        "id": "T_mg1jJ2vj7W"
      },
      "execution_count": null,
      "outputs": []
    },
    {
      "cell_type": "code",
      "source": [
        "cash_withdrawal(345622, 5000)"
      ],
      "metadata": {
        "colab": {
          "base_uri": "https://localhost:8080/"
        },
        "id": "dan96m8rxMpS",
        "outputId": "b9c4ccca-73fd-44f2-db6a-f86f43f2359f"
      },
      "execution_count": 83,
      "outputs": [
        {
          "output_type": "stream",
          "name": "stdout",
          "text": [
            "Withdrawal of 5000 successful.\n",
            "New Balance: 18000\n"
          ]
        }
      ]
    },
    {
      "cell_type": "code",
      "source": [
        "def acc_close(acc_num):\n",
        "    for i, acc in enumerate(all_accounts):\n",
        "        if acc['account_number'] == acc_num:\n",
        "            print(f\"Account {acc_num} found.\")\n",
        "            print(f\"Balance: {acc['balance']}\")\n",
        "\n",
        "            confirm = input(\"Are you sure you want to close this account? (yes/no): \")\n",
        "            if confirm.lower() == \"yes\":\n",
        "                del all_accounts[i]\n",
        "                print(f\"Account {acc_num} has been closed successfully.\")\n",
        "            else:\n",
        "                print(\"Account closure cancelled.\")\n",
        "            break\n",
        "    else:\n",
        "        print(\"Invalid account number.\")\n"
      ],
      "metadata": {
        "id": "GaKCxlYN4XXG"
      },
      "execution_count": null,
      "outputs": []
    },
    {
      "cell_type": "code",
      "source": [
        "acc_close(345622)"
      ],
      "metadata": {
        "colab": {
          "base_uri": "https://localhost:8080/"
        },
        "id": "U5WNLknDHXFi",
        "outputId": "a1eca9d0-ad94-4aef-f5c6-1fa7ac7ddb49"
      },
      "execution_count": 84,
      "outputs": [
        {
          "output_type": "stream",
          "name": "stdout",
          "text": [
            "Account 345622 found.\n",
            "Balance: 18000\n",
            "Are you sure you want to close this account? (yes/no): yes\n",
            "Account 345622 has been closed successfully.\n"
          ]
        }
      ]
    },
    {
      "cell_type": "code",
      "source": [
        "acc_close(345623)"
      ],
      "metadata": {
        "colab": {
          "base_uri": "https://localhost:8080/"
        },
        "id": "s81alieDHwov",
        "outputId": "3159799d-6d81-46e4-c412-f7dc41555f78"
      },
      "execution_count": 85,
      "outputs": [
        {
          "output_type": "stream",
          "name": "stdout",
          "text": [
            "Account 345623 found.\n",
            "Balance: 200000\n",
            "Are you sure you want to close this account? (yes/no): no\n",
            "Account closure cancelled.\n"
          ]
        }
      ]
    },
    {
      "cell_type": "code",
      "source": [
        "def transfer_funds(from_acc_num, to_acc_num, amount):\n",
        "    from_acc = None\n",
        "    to_acc = None\n",
        "\n",
        "    for acc in all_accounts:\n",
        "        if acc['account_number'] == from_acc_num:\n",
        "            from_acc = acc\n",
        "        if acc['account_number'] == to_acc_num:\n",
        "            to_acc = acc\n",
        "\n",
        "    if not from_acc:\n",
        "        print(\"Sender account not found.\")\n",
        "        return\n",
        "    if not to_acc:\n",
        "        print(\"Receiver account not found.\")\n",
        "        return\n",
        "\n",
        "    if from_acc['balance'] < amount:\n",
        "        print(\"Insufficient balance in sender account.\")\n",
        "        return\n",
        "\n",
        "    from_acc['balance'] -= amount\n",
        "    to_acc['balance'] += amount\n",
        "\n",
        "    print(f\"Transfer successful!\")\n",
        "    print(f\"{amount} transferred from {from_acc_num} to {to_acc_num}.\")\n",
        "    print(f\"New balance of {from_acc_num}: {from_acc['balance']}\")\n",
        "    print(f\"New balance of {to_acc_num}: {to_acc['balance']}\")\n",
        "\n"
      ],
      "metadata": {
        "id": "hHBYOGXQK0a_"
      },
      "execution_count": 93,
      "outputs": []
    },
    {
      "cell_type": "code",
      "source": [
        "transfer_funds(345622, 345623, 5000)"
      ],
      "metadata": {
        "colab": {
          "base_uri": "https://localhost:8080/"
        },
        "id": "39sPg8HFLEhX",
        "outputId": "0eb7c478-25c3-4b53-b7d0-42c6ad861674"
      },
      "execution_count": 86,
      "outputs": [
        {
          "output_type": "stream",
          "name": "stdout",
          "text": [
            "Sender account not found.\n"
          ]
        }
      ]
    },
    {
      "cell_type": "code",
      "source": [
        "transfer_funds(345623, 345623, 5000)"
      ],
      "metadata": {
        "colab": {
          "base_uri": "https://localhost:8080/"
        },
        "id": "YYWsb-TkLNL1",
        "outputId": "cae04729-075e-4544-a9ea-3fb458af61bf"
      },
      "execution_count": 87,
      "outputs": [
        {
          "output_type": "stream",
          "name": "stdout",
          "text": [
            "Receiver account not found.\n"
          ]
        }
      ]
    },
    {
      "cell_type": "code",
      "source": [
        "transfer_funds(345621, 345623, 20000)\n"
      ],
      "metadata": {
        "colab": {
          "base_uri": "https://localhost:8080/"
        },
        "id": "MKvhCBmQMQ8l",
        "outputId": "7f150f1f-2767-42b6-bdec-3f0ac87ef7cf"
      },
      "execution_count": 96,
      "outputs": [
        {
          "output_type": "stream",
          "name": "stdout",
          "text": [
            "Insufficient balance in sender account.\n"
          ]
        }
      ]
    },
    {
      "cell_type": "code",
      "source": [
        "transfer_funds(345621, 345623, 1000)"
      ],
      "metadata": {
        "colab": {
          "base_uri": "https://localhost:8080/"
        },
        "id": "WCCJVBJGQhW3",
        "outputId": "911ca004-1131-463e-e6a4-fb23861e3229"
      },
      "execution_count": 98,
      "outputs": [
        {
          "output_type": "stream",
          "name": "stdout",
          "text": [
            "Transfer successful!\n",
            "1000 transferred from 345621 to 345623.\n",
            "New balance of 345621: 14000\n",
            "New balance of 345623: 201000\n"
          ]
        }
      ]
    }
  ]
}