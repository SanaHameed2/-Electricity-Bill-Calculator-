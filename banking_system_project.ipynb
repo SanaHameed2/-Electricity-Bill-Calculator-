{
  "nbformat": 4,
  "nbformat_minor": 0,
  "metadata": {
    "colab": {
      "provenance": [],
      "authorship_tag": "ABX9TyNauGoUgOd8Z4ozZseMeGLj",
      "include_colab_link": true
    },
    "kernelspec": {
      "name": "python3",
      "display_name": "Python 3"
    },
    "language_info": {
      "name": "python"
    }
  },
  "cells": [
    {
      "cell_type": "markdown",
      "metadata": {
        "id": "view-in-github",
        "colab_type": "text"
      },
      "source": [
        "<a href=\"https://colab.research.google.com/github/SanaHameed2/-Electricity-Bill-Calculator-/blob/master/banking_system_project.ipynb\" target=\"_parent\"><img src=\"https://colab.research.google.com/assets/colab-badge.svg\" alt=\"Open In Colab\"/></a>"
      ]
    },
    {
      "cell_type": "code",
      "execution_count": 43,
      "metadata": {
        "id": "6wpkKCBfeSAe"
      },
      "outputs": [],
      "source": [
        "all_accounts = []\n",
        "import random"
      ]
    },
    {
      "cell_type": "code",
      "source": [
        "def open_account():\n",
        "  account_title = input(\"enter the title : \")\n",
        "  account_number = int(input(\"enter the number : \"))\n",
        "  cnic = input(\"enter CNIC: \")\n",
        "  initial_deposit = random.randint(10000, 99999)\n",
        "  account = {'title': account_title,\n",
        "             'cnic': cnic,\n",
        "             'account_number': account_number,\n",
        "             'type': 'saving',\n",
        "             'balance': initial_deposit,\n",
        "             'contact': ''}\n",
        "  all_accounts.append(account)"
      ],
      "metadata": {
        "id": "7uXF_7euo2dr"
      },
      "execution_count": 51,
      "outputs": []
    },
    {
      "cell_type": "code",
      "source": [
        "open_account()"
      ],
      "metadata": {
        "colab": {
          "base_uri": "https://localhost:8080/"
        },
        "id": "di-XMH7MONiY",
        "outputId": "6a1c0230-8da6-4c56-fe78-cbc6c507d9eb"
      },
      "execution_count": 45,
      "outputs": [
        {
          "name": "stdout",
          "output_type": "stream",
          "text": [
            "enter the title : sana\n",
            "enter the number : 345671\n",
            "enter CNIC: 98145634\n"
          ]
        }
      ]
    },
    {
      "cell_type": "code",
      "source": [
        "all_accounts"
      ],
      "metadata": {
        "colab": {
          "base_uri": "https://localhost:8080/"
        },
        "id": "YZi3URaNV5_u",
        "outputId": "edb6fa01-905b-4cc8-97ba-902a7cfcd3d5"
      },
      "execution_count": 46,
      "outputs": [
        {
          "output_type": "execute_result",
          "data": {
            "text/plain": [
              "[{'title': 'sana',\n",
              "  'cnic': '98145634',\n",
              "  'account_number': 345671,\n",
              "  'type': 'saving',\n",
              "  'balance': 94995,\n",
              "  'contact': ''}]"
            ]
          },
          "metadata": {},
          "execution_count": 46
        }
      ]
    },
    {
      "cell_type": "code",
      "source": [
        "def cash_deposit(acc_number, amount):\n",
        "    if amount > 0:\n",
        "        for acc in all_accounts:\n",
        "            if str(acc['account_number']) == str(acc_number):\n",
        "                acc['balance'] += amount\n",
        "                print(\"Amount successfully deposited\")\n",
        "                print(f\"New Balance: {acc['balance']}\")\n",
        "                break\n",
        "        else:\n",
        "            print(\"Account not found\")\n",
        "    else:\n",
        "        print(\"Invalid Amount\")"
      ],
      "metadata": {
        "id": "DpSoVK_FWakE"
      },
      "execution_count": 56,
      "outputs": []
    },
    {
      "cell_type": "code",
      "source": [
        "cash_deposit(345671, 10000)"
      ],
      "metadata": {
        "colab": {
          "base_uri": "https://localhost:8080/"
        },
        "id": "iXa4zzygcCgk",
        "outputId": "0a744390-df97-40f1-e2bf-32055f8e143a"
      },
      "execution_count": 57,
      "outputs": [
        {
          "output_type": "stream",
          "name": "stdout",
          "text": [
            "Amount successfully deposited\n",
            "New Balance: 104995\n"
          ]
        }
      ]
    },
    {
      "cell_type": "code",
      "source": [],
      "metadata": {
        "id": "UKkOXUHHiDQL"
      },
      "execution_count": null,
      "outputs": []
    },
    {
      "cell_type": "code",
      "source": [],
      "metadata": {
        "id": "xMjFP5sqiDg3"
      },
      "execution_count": null,
      "outputs": []
    },
    {
      "cell_type": "code",
      "source": [],
      "metadata": {
        "id": "xi_4eicViDkY"
      },
      "execution_count": null,
      "outputs": []
    },
    {
      "cell_type": "code",
      "source": [],
      "metadata": {
        "id": "V4xFYJMfiDxR"
      },
      "execution_count": null,
      "outputs": []
    }
  ]
}